{
 "cells": [
  {
   "cell_type": "markdown",
   "metadata": {},
   "source": [
    "---\n",
    "\n",
    "_You are currently looking at **version 1.1** of this notebook. To download notebooks and datafiles, as well as get help on Jupyter notebooks in the Coursera platform, visit the [Jupyter Notebook FAQ](https://www.coursera.org/learn/python-data-analysis/resources/0dhYG) course resource._\n",
    "\n",
    "---"
   ]
  },
  {
   "cell_type": "code",
   "execution_count": 9,
   "metadata": {
    "collapsed": true
   },
   "outputs": [],
   "source": [
    "import pandas as pd\n",
    "import numpy as np\n",
    "from scipy.stats import ttest_ind\n",
    "import matplotlib as plt"
   ]
  },
  {
   "cell_type": "markdown",
   "metadata": {},
   "source": [
    "# Hypothesis Testing\n",
    "\n",
    "Definitions:\n",
    "* A _quarter_ is a specific three month period, Q1 is January through March, Q2 is April through June, Q3 is July through September, Q4 is October through December.\n",
    "* A _recession_ is defined as starting with two consecutive quarters of GDP decline, and ending with two consecutive quarters of GDP growth.\n",
    "* A _recession bottom_ is the quarter within a recession which had the lowest GDP.\n",
    "* A _university town_ is a city which has a high percentage of university students compared to the total population of the city.\n",
    "\n",
    "**Hypothesis**: University towns have their mean housing prices less effected by recessions. Run a t-test to compare the ratio of the mean price of houses in university towns the quarter before the recession starts compared to the recession bottom. \n",
    "\n",
    "The following data files are available for this project:\n",
    "* From the [Zillow research data site](http://www.zillow.com/research/data/) there is housing data for the United States. In particular the datafile for [all homes at a city level](http://files.zillowstatic.com/research/public/City/City_Zhvi_AllHomes.csv), ```City_Zhvi_AllHomes.csv```, has median home sale prices at a fine grained level.\n",
    "* From the Wikipedia page on college towns is a list of [university towns in the United States](https://en.wikipedia.org/wiki/List_of_college_towns#College_towns_in_the_United_States) which has been copy and pasted into the file ```university_towns.txt```.\n",
    "* From Bureau of Economic Analysis, US Department of Commerce, the [GDP over time](http://www.bea.gov/national/index.htm#gdp) of the United States in current dollars (use the chained value in 2009 dollars), in quarterly intervals, in the file ```gdplev.xls```. Only look at GDP data from the first quarter of 2000 onward.\n"
   ]
  },
  {
   "cell_type": "code",
   "execution_count": 10,
   "metadata": {
    "collapsed": true
   },
   "outputs": [],
   "source": [
    "# Use this dictionary to map state names to two letter acronyms\n",
    "states = {'OH': 'Ohio', 'KY': 'Kentucky', 'AS': 'American Samoa', 'NV': 'Nevada', 'WY': 'Wyoming', 'NA': 'National', 'AL': 'Alabama', 'MD': 'Maryland', 'AK': 'Alaska', 'UT': 'Utah', 'OR': 'Oregon', 'MT': 'Montana', 'IL': 'Illinois', 'TN': 'Tennessee', 'DC': 'District of Columbia', 'VT': 'Vermont', 'ID': 'Idaho', 'AR': 'Arkansas', 'ME': 'Maine', 'WA': 'Washington', 'HI': 'Hawaii', 'WI': 'Wisconsin', 'MI': 'Michigan', 'IN': 'Indiana', 'NJ': 'New Jersey', 'AZ': 'Arizona', 'GU': 'Guam', 'MS': 'Mississippi', 'PR': 'Puerto Rico', 'NC': 'North Carolina', 'TX': 'Texas', 'SD': 'South Dakota', 'MP': 'Northern Mariana Islands', 'IA': 'Iowa', 'MO': 'Missouri', 'CT': 'Connecticut', 'WV': 'West Virginia', 'SC': 'South Carolina', 'LA': 'Louisiana', 'KS': 'Kansas', 'NY': 'New York', 'NE': 'Nebraska', 'OK': 'Oklahoma', 'FL': 'Florida', 'CA': 'California', 'CO': 'Colorado', 'PA': 'Pennsylvania', 'DE': 'Delaware', 'NM': 'New Mexico', 'RI': 'Rhode Island', 'MN': 'Minnesota', 'VI': 'Virgin Islands', 'NH': 'New Hampshire', 'MA': 'Massachusetts', 'GA': 'Georgia', 'ND': 'North Dakota', 'VA': 'Virginia'}"
   ]
  },
  {
   "cell_type": "code",
   "execution_count": 11,
   "metadata": {
    "collapsed": true,
    "umich_part_id": "021",
    "umich_partlist_id": "004"
   },
   "outputs": [],
   "source": [
    "def get_list_of_university_towns():\n",
    "    '''Returns a DataFrame of towns and the states they are in from the \n",
    "    university_towns.txt list. The format of the DataFrame should be:\n",
    "    DataFrame( [ [\"Michigan\", \"Ann Arbor\"], [\"Michigan\", \"Yipsilanti\"] ], \n",
    "    columns=[\"State\", \"RegionName\"]  )\n",
    "    \n",
    "    The following cleaning needs to be done:\n",
    "\n",
    "    1. For \"State\", removing characters from \"[\" to the end.\n",
    "    2. For \"RegionName\", when applicable, removing every character from \" (\" to the end.\n",
    "    3. Depending on how you read the data, you may need to remove newline character '\\n'. '''\n",
    "    \n",
    "    # Read data into dataframe with tab as a seperator\n",
    "    df = pd.read_csv('university_towns.txt', sep='\\t', header=None)\n",
    "    \n",
    "    # Remove every character from \" (\" to the end\n",
    "    df.replace(\" \\(.*\", value=\"\", inplace=True, regex=True)\n",
    "    \n",
    "    # Initiate unicersity_towns dataframe\n",
    "    university_towns = pd.DataFrame(columns=['State','RegionName'])\n",
    "    \n",
    "    # Add rows with State and RegionName to university_towns\n",
    "    for i in range(len(df)):\n",
    "        if '[edit]' in str(df.loc[i].values):\n",
    "            state = str(df.loc[i].values)[2:-8]\n",
    "        else:\n",
    "            region = df.loc[i].values[0]\n",
    "            university_towns = university_towns.append({'State': state, 'RegionName': region}, ignore_index=True)\n",
    "    return university_towns\n",
    "#get_list_of_university_towns()"
   ]
  },
  {
   "cell_type": "code",
   "execution_count": 12,
   "metadata": {
    "collapsed": true
   },
   "outputs": [],
   "source": [
    "def get_gdp():\n",
    "    '''Returns the dataframe with quarter and corresponding \n",
    "    GDP starting from Quarter1 of 2000'''\n",
    "\n",
    "    df = pd.read_excel('gdplev.xls', skiprows=7)\n",
    "    df = df.drop(df.columns[[0,1,2,3,6,7]], axis=1)\n",
    "    df.columns = ['Quarter', 'GDP']\n",
    "    return df[df['Quarter'] >= '2000q1'].reset_index(drop=True)\n",
    "#get_gdp()"
   ]
  },
  {
   "cell_type": "code",
   "execution_count": 13,
   "metadata": {
    "collapsed": true,
    "umich_part_id": "022",
    "umich_partlist_id": "004"
   },
   "outputs": [],
   "source": [
    "def get_recession_start():\n",
    "    '''Returns the year and quarter of the recession start time as a \n",
    "    string value in a format such as 2005q3'''\n",
    "    \n",
    "    df = get_gdp()\n",
    "    for i in range(len(df)-2):\n",
    "        if (df['GDP'].loc[i+2] < df['GDP'].loc[i]) and (df['GDP'].loc[i+1] < df['GDP'].loc[i]):\n",
    "            return df['Quarter'].loc[i]\n",
    "#get_recession_start()"
   ]
  },
  {
   "cell_type": "code",
   "execution_count": 14,
   "metadata": {
    "collapsed": true,
    "umich_part_id": "023",
    "umich_partlist_id": "004"
   },
   "outputs": [],
   "source": [
    "def get_recession_end():\n",
    "    '''Returns the year and quarter of the recession end time as a \n",
    "    string value in a format such as 2005q3'''\n",
    "    \n",
    "    df = get_gdp()\n",
    "    df = df[df['Quarter'] >= get_recession_start()].reset_index(drop=True)\n",
    "    for i in range(len(df)-3):\n",
    "        if (df['GDP'].loc[i+2] > df['GDP'].loc[i]) and (df['GDP'].loc[i+1] > df['GDP'].loc[i]):\n",
    "            return df['Quarter'].loc[i+2]\n",
    "#get_recession_end()"
   ]
  },
  {
   "cell_type": "code",
   "execution_count": 15,
   "metadata": {
    "collapsed": true,
    "umich_part_id": "024",
    "umich_partlist_id": "004"
   },
   "outputs": [],
   "source": [
    "def get_recession_bottom():\n",
    "    '''Returns the year and quarter of the recession bottom time as a \n",
    "    string value in a format such as 2005q3'''\n",
    "    \n",
    "    start = get_recession_start()\n",
    "    end = get_recession_end()\n",
    "    df = get_gdp()\n",
    "    df = df[(df['Quarter']>=start) & (df['Quarter']<=end)]\n",
    "    return df['Quarter'].loc[df['GDP'].idxmin()]\n",
    "#get_recession_bottom()"
   ]
  },
  {
   "cell_type": "code",
   "execution_count": 16,
   "metadata": {
    "collapsed": true,
    "umich_part_id": "025",
    "umich_partlist_id": "004"
   },
   "outputs": [],
   "source": [
    "def convert_housing_data_to_quarters():\n",
    "    '''Converts the housing data to quarters and returns it as mean \n",
    "    values in a dataframe. This dataframe should be a dataframe with\n",
    "    columns for 2000q1 through 2016q3, and should have a multi-index\n",
    "    in the shape of [\"State\",\"RegionName\"].\n",
    "    \n",
    "    Note: Quarters are defined in the description, they are\n",
    "    not arbitrary three month periods.\n",
    "    \n",
    "    The resulting dataframe should have 67 columns, and 10,730 rows.\n",
    "    '''\n",
    "    # Read csv into dataframe df\n",
    "    df = pd.read_csv('City_Zhvi_AllHomes.csv')\n",
    "\n",
    "    # Map State code to State Names using dictionary 'states' and set index as State and RegionName\n",
    "    df.replace({'State': states}, inplace=True)\n",
    "\n",
    "    # Set index as State and RegionName\n",
    "    df.set_index(['State','RegionName'],inplace=True)\n",
    "\n",
    "    # Reduce dataframe to only columns we need\n",
    "    df = df.drop(df.columns[[0,1,2,3]], axis = 1).drop(df.columns[df.columns < '2000-01'], axis=1)\n",
    "    #df = df.drop(df.columns[df.columns < '2000-01'], axis=1)\n",
    "\n",
    "    # Convert columns to Pandas DataTime\n",
    "    df.columns = pd.to_datetime(df.columns)\n",
    "\n",
    "    # Resample dataframe based on quarters on axis = columns\n",
    "    df = df.resample('Q',axis=1).mean()\n",
    "\n",
    "    # Rename columns as 2005q3\n",
    "    df = df.rename(columns=lambda x: str(x.to_period('Q')).lower())\n",
    "    return df\n",
    "#convert_housing_data_to_quarters()"
   ]
  },
  {
   "cell_type": "code",
   "execution_count": 17,
   "metadata": {},
   "outputs": [
    {
     "data": {
      "text/plain": [
       "(True, 0.0027240637047531249, 'university town')"
      ]
     },
     "execution_count": 17,
     "metadata": {},
     "output_type": "execute_result"
    }
   ],
   "source": [
    "def run_ttest():\n",
    "    '''First creates new data showing the decline or growth of housing prices\n",
    "    between the recession start and the recession bottom. Then runs a ttest\n",
    "    comparing the university town values to the non-university towns values, \n",
    "    return whether the alternative hypothesis (that the two groups are the same)\n",
    "    is true or not as well as the p-value of the confidence. \n",
    "    \n",
    "    Return the tuple (different, p, better) where different=True if the t-test is\n",
    "    True at a p<0.01 (we reject the null hypothesis), or different=False if \n",
    "    otherwise (we cannot reject the null hypothesis). The variable p should\n",
    "    be equal to the exact p value returned from scipy.stats.ttest_ind(). The\n",
    "    value for better should be either \"university town\" or \"non-university town\"\n",
    "    depending on which has a lower mean price ratio (which is equivilent to a\n",
    "    reduced market loss).'''\n",
    "    \n",
    "    # Get the housing data and replace Nan with 0\n",
    "    df = convert_housing_data_to_quarters()\n",
    "\n",
    "    # Get the quarter before recession start\n",
    "    start = pd.to_datetime(get_recession_start())\n",
    "    start = start - pd.Timedelta(days=90)\n",
    "    qrt_before_rec_start = str(start.to_period('Q')).lower()\n",
    "\n",
    "    # Get the recession bottom quarter\n",
    "    bottom = get_recession_bottom()\n",
    "\n",
    "    # drop all other columns from dataframe ecxept for qurter before recession and recession bottom and\n",
    "    # calculate the price ratio and replace NaN with 0\n",
    "    df = df[[qrt_before_rec_start, bottom]]\n",
    "    df['Price_Ratio'] = df[qrt_before_rec_start]/df[bottom]\n",
    "\n",
    "    # Separate data based on university town and non university towns\n",
    "    university_towns = get_list_of_university_towns().to_records(index=False).tolist()\n",
    "    ut = df['Price_Ratio'].loc[df.index.isin(university_towns)]#.replace('NaN', value=0)\n",
    "    non_ut = df['Price_Ratio'].loc[~df.index.isin(university_towns)]#.replace('NaN', value=0)\n",
    "    \n",
    "    # Run ttest on university town data and non university town data\n",
    "    stat, p = ttest_ind(ut, non_ut, nan_policy='omit')\n",
    "\n",
    "    different = False\n",
    "    if p<0.01:\n",
    "        different = True\n",
    "\n",
    "    better = 'non-university town'\n",
    "    if ut.mean() < non_ut.mean():\n",
    "        better = 'university town'\n",
    "\n",
    "    return (different, p, better)\n",
    "run_ttest()"
   ]
  }
 ],
 "metadata": {
  "coursera": {
   "course_slug": "python-data-analysis",
   "graded_item_id": "Il9Fx",
   "launcher_item_id": "TeDW0",
   "part_id": "WGlun"
  },
  "kernelspec": {
   "display_name": "Python 3",
   "language": "python",
   "name": "python3"
  },
  "language_info": {
   "codemirror_mode": {
    "name": "ipython",
    "version": 3
   },
   "file_extension": ".py",
   "mimetype": "text/x-python",
   "name": "python",
   "nbconvert_exporter": "python",
   "pygments_lexer": "ipython3",
   "version": "3.6.0"
  },
  "umich": {
   "id": "Assignment 4",
   "version": "1.1"
  }
 },
 "nbformat": 4,
 "nbformat_minor": 1
}
